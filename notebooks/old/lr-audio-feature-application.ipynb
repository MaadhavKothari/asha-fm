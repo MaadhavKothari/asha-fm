{
 "cells": [
  {
   "cell_type": "markdown",
   "metadata": {},
   "source": [
    "# Audio Transform Experiments"
   ]
  },
  {
   "cell_type": "markdown",
   "metadata": {},
   "source": [
    "# Imports"
   ]
  },
  {
   "cell_type": "code",
   "execution_count": 1,
   "metadata": {},
   "outputs": [],
   "source": [
    "%matplotlib inline\n",
    "import numpy, scipy, matplotlib.pyplot as plt, IPython.display as ipd\n",
    "import librosa, librosa.display\n",
    "import numpy as np\n",
    "import random \n",
    "import os\n",
    "import matplotlib.pyplot as plt\n",
    "import math"
   ]
  },
  {
   "cell_type": "code",
   "execution_count": 2,
   "metadata": {},
   "outputs": [],
   "source": [
    "np.set_printoptions(threshold=np.inf, suppress=True)"
   ]
  },
  {
   "cell_type": "markdown",
   "metadata": {},
   "source": [
    "# Extracting Audio info"
   ]
  },
  {
   "cell_type": "code",
   "execution_count": 3,
   "metadata": {},
   "outputs": [],
   "source": [
    "# Params\n",
    "\n",
    "FRAME_RATE = 24\n",
    "HOP_WINDOW = 512"
   ]
  },
  {
   "cell_type": "markdown",
   "metadata": {},
   "source": [
    "## Extraction functions"
   ]
  },
  {
   "cell_type": "code",
   "execution_count": 4,
   "metadata": {},
   "outputs": [],
   "source": [
    "def get_audio_params(audio_path, frame_rate=FRAME_RATE, hop_window=HOP_WINDOW):\n",
    "    # Load song with 22050 sample rate\n",
    "    y, sr = librosa.load(audio_path, sr=22050)\n",
    "    audio_duration = librosa.get_duration(y, sr=sr)\n",
    "    \n",
    "    total_frames_float = audio_duration * frame_rate\n",
    "    total_frames = math.ceil(total_frames_float)\n",
    "    \n",
    "    sample_rate = round(total_frames_float / audio_duration * hop_window)\n",
    "    \n",
    "    return total_frames, sample_rate, audio_duration"
   ]
  },
  {
   "cell_type": "code",
   "execution_count": 5,
   "metadata": {},
   "outputs": [],
   "source": [
    "def get_onset_info(audio_path, sample_rate, frame_rate=FRAME_RATE, hop_window=HOP_WINDOW):\n",
    "    # Load\n",
    "    y, sr = librosa.load(audio_path, sr=sample_rate)\n",
    "    \n",
    "    # Onset strengths and normalize\n",
    "    onset_strengths = librosa.onset.onset_strength(y=y, sr=sample_rate, aggregate=np.median)\n",
    "    onset_strengths = librosa.util.normalize(onset_strengths)\n",
    "    \n",
    "    # Onset timestamps and frames\n",
    "    onset_times = librosa.times_like(onset_strengths, sr=sample_rate)\n",
    "    onset_frames = onset_times * frame_rate\n",
    "    \n",
    "    onset_info = np.concatenate([\n",
    "        onset_frames.reshape((-1, 1)),\n",
    "        onset_times.reshape((-1, 1)),\n",
    "        onset_strengths.reshape((-1, 1))\n",
    "    ], axis=1)\n",
    "    \n",
    "    # Beat times\n",
    "    beat_times = librosa.beat.beat_track(y=y, sr=sample_rate, units='time')[1]\n",
    "    \n",
    "    return y, onset_info, beat_times"
   ]
  },
  {
   "cell_type": "code",
   "execution_count": 6,
   "metadata": {},
   "outputs": [
    {
     "data": {
      "text/plain": [
       "(201, 12288, 8.347845804988662)"
      ]
     },
     "execution_count": 6,
     "metadata": {},
     "output_type": "execute_result"
    }
   ],
   "source": [
    "total_frames, sample_rate, audio_duration = get_audio_params('Drums.wav', frame_rate=FRAME_RATE, hop_window=HOP_WINDOW)\n",
    "total_frames, sample_rate, audio_duration"
   ]
  },
  {
   "cell_type": "code",
   "execution_count": 7,
   "metadata": {},
   "outputs": [
    {
     "name": "stderr",
     "output_type": "stream",
     "text": [
      "/home/lscr/.pyenv/versions/3.10.6/envs/wagon-ta/lib/python3.10/site-packages/librosa/filters.py:238: UserWarning: Empty filters detected in mel frequency basis. Some channels will produce empty responses. Try increasing your sampling rate (and fmax) or reducing n_mels.\n",
      "  warnings.warn(\n"
     ]
    },
    {
     "data": {
      "text/plain": [
       "((102579,), (201, 3), (14,))"
      ]
     },
     "execution_count": 7,
     "metadata": {},
     "output_type": "execute_result"
    }
   ],
   "source": [
    "y, onset_info, beat_times = get_onset_info('Drums.wav', sample_rate, frame_rate=FRAME_RATE, hop_window=HOP_WINDOW)\n",
    "y.shape, onset_info.shape, beat_times.shape"
   ]
  },
  {
   "cell_type": "code",
   "execution_count": 8,
   "metadata": {
    "collapsed": true,
    "jupyter": {
     "outputs_hidden": true
    },
    "tags": []
   },
   "outputs": [
    {
     "data": {
      "text/plain": [
       "array([[  0.        ,   0.        ,   0.        ],\n",
       "       [  1.        ,   0.04166667,   0.        ],\n",
       "       [  2.        ,   0.08333333,   0.        ],\n",
       "       [  3.        ,   0.125     ,   0.        ],\n",
       "       [  4.        ,   0.16666667,   0.        ],\n",
       "       [  5.        ,   0.20833333,   0.        ],\n",
       "       [  6.        ,   0.25      ,   0.        ],\n",
       "       [  7.        ,   0.29166667,   0.        ],\n",
       "       [  8.        ,   0.33333333,   0.        ],\n",
       "       [  9.        ,   0.375     ,   0.        ],\n",
       "       [ 10.        ,   0.41666667,   0.        ],\n",
       "       [ 11.        ,   0.45833333,   0.        ],\n",
       "       [ 12.        ,   0.5       ,   0.35678828],\n",
       "       [ 13.        ,   0.54166667,   0.        ],\n",
       "       [ 14.        ,   0.58333333,   0.        ],\n",
       "       [ 15.        ,   0.625     ,   0.47240004],\n",
       "       [ 16.        ,   0.66666667,   0.01160823],\n",
       "       [ 17.        ,   0.70833333,   0.        ],\n",
       "       [ 18.        ,   0.75      ,   0.        ],\n",
       "       [ 19.        ,   0.79166667,   0.        ],\n",
       "       [ 20.        ,   0.83333333,   0.        ],\n",
       "       [ 21.        ,   0.875     ,   0.        ],\n",
       "       [ 22.        ,   0.91666667,   0.        ],\n",
       "       [ 23.        ,   0.95833333,   0.        ],\n",
       "       [ 24.        ,   1.        ,   0.        ],\n",
       "       [ 25.        ,   1.04166667,   0.        ],\n",
       "       [ 26.        ,   1.08333333,   0.        ],\n",
       "       [ 27.        ,   1.125     ,   0.16708386],\n",
       "       [ 28.        ,   1.16666667,   0.23202273],\n",
       "       [ 29.        ,   1.20833333,   0.        ],\n",
       "       [ 30.        ,   1.25      ,   0.09882496],\n",
       "       [ 31.        ,   1.29166667,   0.3014515 ],\n",
       "       [ 32.        ,   1.33333333,   0.        ],\n",
       "       [ 33.        ,   1.375     ,   0.        ],\n",
       "       [ 34.        ,   1.41666667,   0.04914628],\n",
       "       [ 35.        ,   1.45833333,   0.        ],\n",
       "       [ 36.        ,   1.5       ,   0.        ],\n",
       "       [ 37.        ,   1.54166667,   0.55764127],\n",
       "       [ 38.        ,   1.58333333,   0.        ],\n",
       "       [ 39.        ,   1.625     ,   0.11896214],\n",
       "       [ 40.        ,   1.66666667,   0.4088172 ],\n",
       "       [ 41.        ,   1.70833333,   0.        ],\n",
       "       [ 42.        ,   1.75      ,   0.        ],\n",
       "       [ 43.        ,   1.79166667,   0.        ],\n",
       "       [ 44.        ,   1.83333333,   0.        ],\n",
       "       [ 45.        ,   1.875     ,   0.        ],\n",
       "       [ 46.        ,   1.91666667,   0.        ],\n",
       "       [ 47.        ,   1.95833333,   0.        ],\n",
       "       [ 48.        ,   2.        ,   0.        ],\n",
       "       [ 49.        ,   2.04166667,   0.34497061],\n",
       "       [ 50.        ,   2.08333333,   0.0422233 ],\n",
       "       [ 51.        ,   2.125     ,   0.08325393],\n",
       "       [ 52.        ,   2.16666667,   0.20824258],\n",
       "       [ 53.        ,   2.20833333,   0.        ],\n",
       "       [ 54.        ,   2.25      ,   0.        ],\n",
       "       [ 55.        ,   2.29166667,   0.        ],\n",
       "       [ 56.        ,   2.33333333,   0.        ],\n",
       "       [ 57.        ,   2.375     ,   0.        ],\n",
       "       [ 58.        ,   2.41666667,   0.        ],\n",
       "       [ 59.        ,   2.45833333,   0.10299054],\n",
       "       [ 60.        ,   2.5       ,   0.        ],\n",
       "       [ 61.        ,   2.54166667,   0.86041719],\n",
       "       [ 62.        ,   2.58333333,   0.24917285],\n",
       "       [ 63.        ,   2.625     ,   0.        ],\n",
       "       [ 64.        ,   2.66666667,   0.53874248],\n",
       "       [ 65.        ,   2.70833333,   0.42769346],\n",
       "       [ 66.        ,   2.75      ,   0.        ],\n",
       "       [ 67.        ,   2.79166667,   0.        ],\n",
       "       [ 68.        ,   2.83333333,   0.        ],\n",
       "       [ 69.        ,   2.875     ,   0.        ],\n",
       "       [ 70.        ,   2.91666667,   0.        ],\n",
       "       [ 71.        ,   2.95833333,   0.        ],\n",
       "       [ 72.        ,   3.        ,   0.        ],\n",
       "       [ 73.        ,   3.04166667,   0.        ],\n",
       "       [ 74.        ,   3.08333333,   0.        ],\n",
       "       [ 75.        ,   3.125     ,   0.        ],\n",
       "       [ 76.        ,   3.16666667,   0.        ],\n",
       "       [ 77.        ,   3.20833333,   0.52021939],\n",
       "       [ 78.        ,   3.25      ,   0.31562719],\n",
       "       [ 79.        ,   3.29166667,   0.        ],\n",
       "       [ 80.        ,   3.33333333,   0.13670926],\n",
       "       [ 81.        ,   3.375     ,   0.2489264 ],\n",
       "       [ 82.        ,   3.41666667,   0.        ],\n",
       "       [ 83.        ,   3.45833333,   0.        ],\n",
       "       [ 84.        ,   3.5       ,   0.15210411],\n",
       "       [ 85.        ,   3.54166667,   0.        ],\n",
       "       [ 86.        ,   3.58333333,   0.01319542],\n",
       "       [ 87.        ,   3.625     ,   0.48940516],\n",
       "       [ 88.        ,   3.66666667,   0.        ],\n",
       "       [ 89.        ,   3.70833333,   0.09275071],\n",
       "       [ 90.        ,   3.75      ,   0.58877712],\n",
       "       [ 91.        ,   3.79166667,   0.        ],\n",
       "       [ 92.        ,   3.83333333,   0.        ],\n",
       "       [ 93.        ,   3.875     ,   0.        ],\n",
       "       [ 94.        ,   3.91666667,   0.        ],\n",
       "       [ 95.        ,   3.95833333,   0.        ],\n",
       "       [ 96.        ,   4.        ,   0.        ],\n",
       "       [ 97.        ,   4.04166667,   0.        ],\n",
       "       [ 98.        ,   4.08333333,   0.        ],\n",
       "       [ 99.        ,   4.125     ,   0.4564077 ],\n",
       "       [100.        ,   4.16666667,   0.09766732],\n",
       "       [101.        ,   4.20833333,   0.        ],\n",
       "       [102.        ,   4.25      ,   0.20844972],\n",
       "       [103.        ,   4.29166667,   0.00530233],\n",
       "       [104.        ,   4.33333333,   0.        ],\n",
       "       [105.        ,   4.375     ,   0.        ],\n",
       "       [106.        ,   4.41666667,   0.        ],\n",
       "       [107.        ,   4.45833333,   0.        ],\n",
       "       [108.        ,   4.5       ,   0.        ],\n",
       "       [109.        ,   4.54166667,   0.02746799],\n",
       "       [110.        ,   4.58333333,   0.        ],\n",
       "       [111.        ,   4.625     ,   0.84944969],\n",
       "       [112.        ,   4.66666667,   0.42084545],\n",
       "       [113.        ,   4.70833333,   0.        ],\n",
       "       [114.        ,   4.75      ,   0.12841013],\n",
       "       [115.        ,   4.79166667,   0.63973129],\n",
       "       [116.        ,   4.83333333,   0.        ],\n",
       "       [117.        ,   4.875     ,   0.        ],\n",
       "       [118.        ,   4.91666667,   0.        ],\n",
       "       [119.        ,   4.95833333,   0.        ],\n",
       "       [120.        ,   5.        ,   0.        ],\n",
       "       [121.        ,   5.04166667,   0.        ],\n",
       "       [122.        ,   5.08333333,   0.        ],\n",
       "       [123.        ,   5.125     ,   0.        ],\n",
       "       [124.        ,   5.16666667,   0.        ],\n",
       "       [125.        ,   5.20833333,   0.        ],\n",
       "       [126.        ,   5.25      ,   0.        ],\n",
       "       [127.        ,   5.29166667,   0.24600169],\n",
       "       [128.        ,   5.33333333,   0.5921334 ],\n",
       "       [129.        ,   5.375     ,   0.        ],\n",
       "       [130.        ,   5.41666667,   0.        ],\n",
       "       [131.        ,   5.45833333,   0.36763629],\n",
       "       [132.        ,   5.5       ,   0.        ],\n",
       "       [133.        ,   5.54166667,   0.        ],\n",
       "       [134.        ,   5.58333333,   0.        ],\n",
       "       [135.        ,   5.625     ,   0.0470219 ],\n",
       "       [136.        ,   5.66666667,   0.        ],\n",
       "       [137.        ,   5.70833333,   0.46118003],\n",
       "       [138.        ,   5.75      ,   0.03878733],\n",
       "       [139.        ,   5.79166667,   0.        ],\n",
       "       [140.        ,   5.83333333,   0.90465909],\n",
       "       [141.        ,   5.875     ,   0.150243  ],\n",
       "       [142.        ,   5.91666667,   0.        ],\n",
       "       [143.        ,   5.95833333,   0.        ],\n",
       "       [144.        ,   6.        ,   0.        ],\n",
       "       [145.        ,   6.04166667,   0.        ],\n",
       "       [146.        ,   6.08333333,   0.        ],\n",
       "       [147.        ,   6.125     ,   0.        ],\n",
       "       [148.        ,   6.16666667,   0.        ],\n",
       "       [149.        ,   6.20833333,   0.29135817],\n",
       "       [150.        ,   6.25      ,   0.16456953],\n",
       "       [151.        ,   6.29166667,   0.        ],\n",
       "       [152.        ,   6.33333333,   0.21359068],\n",
       "       [153.        ,   6.375     ,   0.19632928],\n",
       "       [154.        ,   6.41666667,   0.        ],\n",
       "       [155.        ,   6.45833333,   0.        ],\n",
       "       [156.        ,   6.5       ,   0.        ],\n",
       "       [157.        ,   6.54166667,   0.        ],\n",
       "       [158.        ,   6.58333333,   0.        ],\n",
       "       [159.        ,   6.625     ,   0.07242376],\n",
       "       [160.        ,   6.66666667,   0.06990259],\n",
       "       [161.        ,   6.70833333,   0.40601724],\n",
       "       [162.        ,   6.75      ,   0.39801779],\n",
       "       [163.        ,   6.79166667,   0.        ],\n",
       "       [164.        ,   6.83333333,   0.        ],\n",
       "       [165.        ,   6.875     ,   0.78535378],\n",
       "       [166.        ,   6.91666667,   0.05447658],\n",
       "       [167.        ,   6.95833333,   0.        ],\n",
       "       [168.        ,   7.        ,   0.        ],\n",
       "       [169.        ,   7.04166667,   0.        ],\n",
       "       [170.        ,   7.08333333,   0.        ],\n",
       "       [171.        ,   7.125     ,   0.10161369],\n",
       "       [172.        ,   7.16666667,   0.26711369],\n",
       "       [173.        ,   7.20833333,   0.        ],\n",
       "       [174.        ,   7.25      ,   0.        ],\n",
       "       [175.        ,   7.29166667,   0.        ],\n",
       "       [176.        ,   7.33333333,   0.        ],\n",
       "       [177.        ,   7.375     ,   1.        ],\n",
       "       [178.        ,   7.41666667,   0.36895561],\n",
       "       [179.        ,   7.45833333,   0.        ],\n",
       "       [180.        ,   7.5       ,   0.04141602],\n",
       "       [181.        ,   7.54166667,   0.06160713],\n",
       "       [182.        ,   7.58333333,   0.        ],\n",
       "       [183.        ,   7.625     ,   0.        ],\n",
       "       [184.        ,   7.66666667,   0.        ],\n",
       "       [185.        ,   7.70833333,   0.        ],\n",
       "       [186.        ,   7.75      ,   0.        ],\n",
       "       [187.        ,   7.79166667,   0.        ],\n",
       "       [188.        ,   7.83333333,   0.        ],\n",
       "       [189.        ,   7.875     ,   0.07350465],\n",
       "       [190.        ,   7.91666667,   0.47296059],\n",
       "       [191.        ,   7.95833333,   0.        ],\n",
       "       [192.        ,   8.        ,   0.        ],\n",
       "       [193.        ,   8.04166667,   0.16129281],\n",
       "       [194.        ,   8.08333333,   0.        ],\n",
       "       [195.        ,   8.125     ,   0.        ],\n",
       "       [196.        ,   8.16666667,   0.        ],\n",
       "       [197.        ,   8.20833333,   0.        ],\n",
       "       [198.        ,   8.25      ,   0.        ],\n",
       "       [199.        ,   8.29166667,   0.        ],\n",
       "       [200.        ,   8.33333333,   0.        ]])"
      ]
     },
     "execution_count": 8,
     "metadata": {},
     "output_type": "execute_result"
    }
   ],
   "source": [
    "onset_info"
   ]
  },
  {
   "cell_type": "code",
   "execution_count": 9,
   "metadata": {},
   "outputs": [
    {
     "data": {
      "text/plain": [
       "array([0.625     , 1.16666667, 1.66666667, 2.16666667, 2.66666667,\n",
       "       3.20833333, 3.75      , 4.25      , 4.79166667, 5.33333333,\n",
       "       5.83333333, 6.33333333, 6.875     , 7.375     ])"
      ]
     },
     "execution_count": 9,
     "metadata": {},
     "output_type": "execute_result"
    }
   ],
   "source": [
    "beat_times"
   ]
  },
  {
   "cell_type": "code",
   "execution_count": 10,
   "metadata": {
    "tags": []
   },
   "outputs": [],
   "source": [
    "# onset_info"
   ]
  },
  {
   "cell_type": "code",
   "execution_count": 11,
   "metadata": {},
   "outputs": [
    {
     "data": {
      "image/png": "[encoded data removed]",
      "text/plain": [
       "<Figure size 640x480 with 1 Axes>"
      ]
     },
     "metadata": {},
     "output_type": "display_data"
    }
   ],
   "source": [
    "plt.plot(onset_info[:,1], onset_info[:,2])\n",
    "plt.vlines(beat_times, ymin=0, ymax=1, colors='r', linestyles='--')\n",
    "plt.show()"
   ]
  },
  {
   "cell_type": "markdown",
   "metadata": {},
   "source": [
    "## Create additional onset strength features\n",
    "\n",
    "- Linear Decay\n",
    "- Exponential Decay"
   ]
  },
  {
   "cell_type": "code",
   "execution_count": 12,
   "metadata": {},
   "outputs": [],
   "source": [
    "def create_onset_features(onset_info, beat_times, fixed_decay_frames=20, exp_decay_rate=0.2, decay_magnification=False):\n",
    "    \n",
    "    # Create column of zeroes as default value for both Linear and Exp Decay\n",
    "    onset_info = np.concatenate([onset_info, np.zeros((onset_info.shape[0], 1)), np.zeros((onset_info.shape[0], 1))], axis=1)\n",
    "    \n",
    "    # for each row\n",
    "    for i in range(onset_info.shape[0]):\n",
    "        # Skip the first value, makes life easy\n",
    "        if i == 0:\n",
    "            onset_info[i, 3] = 0\n",
    "        \n",
    "        \n",
    "        ## LINEAR\n",
    "        # If the timestamp is in beat_times, it's a peak\n",
    "        if onset_info[i, 1] in beat_times:\n",
    "            onset_info[i, 3] = onset_info[i, 2] # Linear Column\n",
    "            \n",
    "            # Decay Params\n",
    "            decay_factor = 1\n",
    "            if decay_magnification:\n",
    "                decay_factor *= (onset_info[i, 2] + 1)\n",
    "            \n",
    "            decay_frames = fixed_decay_frames * decay_factor\n",
    "            lin_decay_val = onset_info[i, 2] / decay_frames\n",
    "        \n",
    "        # Check if the previous value is zero or less than the decay_val -> 0\n",
    "        if onset_info[i - 1, 3] == 0. or abs(onset_info[i -1, 3]) < lin_decay_val:\n",
    "            pass\n",
    "        \n",
    "        # If previous value > 0, needs decay\n",
    "        elif onset_info[i - 1, 3] > 0: \n",
    "            onset_info[i, 3] = onset_info[i - 1, 3] - lin_decay_val\n",
    "        \n",
    "        \n",
    "        # EXPONENTIAL\n",
    "        # If the timestamp is in beat_times, it's a peak\n",
    "        if onset_info[i, 1] in beat_times:\n",
    "            onset_info[i, 4] = onset_info[i, 2] # Exp Column\n",
    "        \n",
    "        # Set current to zero if previous is zero or small number\n",
    "        elif onset_info[i - 1, 4] == 0 or onset_info[i - 1, 4] < 0.005: \n",
    "            pass\n",
    "        \n",
    "        # If previous value > 0, needs decay\n",
    "        elif onset_info[i - 1, 4] != 0: \n",
    "                onset_info[i, 4] = onset_info[i - 1, 4] * (1 - exp_decay_rate)\n",
    "    \n",
    "    return onset_info"
   ]
  },
  {
   "cell_type": "code",
   "execution_count": 26,
   "metadata": {},
   "outputs": [
    {
     "name": "stderr",
     "output_type": "stream",
     "text": [
      "/home/lscr/.pyenv/versions/3.10.6/envs/wagon-ta/lib/python3.10/site-packages/librosa/filters.py:238: UserWarning: Empty filters detected in mel frequency basis. Some channels will produce empty responses. Try increasing your sampling rate (and fmax) or reducing n_mels.\n",
      "  warnings.warn(\n"
     ]
    }
   ],
   "source": [
    "y, onset_info, beat_times = get_onset_info('Drums.wav', sample_rate, frame_rate=FRAME_RATE, hop_window=HOP_WINDOW)\n",
    "onset_info = create_onset_features(onset_info, beat_times, fixed_decay_frames=20, exp_decay_rate=0.15, decay_magnification=False)"
   ]
  },
  {
   "cell_type": "code",
   "execution_count": 27,
   "metadata": {},
   "outputs": [
    {
     "data": {
      "image/png": "[encoded data removed]",
      "text/plain": [
       "<Figure size 1500x500 with 3 Axes>"
      ]
     },
     "metadata": {},
     "output_type": "display_data"
    }
   ],
   "source": [
    "fig, ax = plt.subplots(nrows=1, ncols=3)\n",
    "\n",
    "fig.set_figheight(5)\n",
    "fig.set_figwidth(15)\n",
    "\n",
    "ax[0].plot(onset_info[:,1], onset_info[:,2])\n",
    "# ax[0].vlines(beat_times, ymin=0, ymax=1, colors='r', linestyles='--')\n",
    "ax[1].plot(onset_info[:,1], onset_info[:,3])\n",
    "# ax[1].vlines(beat_times, ymin=0, ymax=1, colors='r', linestyles='--')\n",
    "ax[2].plot(onset_info[:,1], onset_info[:,4])\n",
    "# ax[2].vlines(beat_times, ymin=0, ymax=1, colors='r', linestyles='--')\n",
    "\n",
    "plt.show()"
   ]
  },
  {
   "cell_type": "markdown",
   "metadata": {},
   "source": [
    "# Model Stuff"
   ]
  },
  {
   "cell_type": "code",
   "execution_count": 15,
   "metadata": {
    "tags": []
   },
   "outputs": [
    {
     "name": "stderr",
     "output_type": "stream",
     "text": [
      "2023-03-14 21:17:44.607186: I tensorflow/core/platform/cpu_feature_guard.cc:193] This TensorFlow binary is optimized with oneAPI Deep Neural Network Library (oneDNN) to use the following CPU instructions in performance-critical operations:  AVX2 AVX512F AVX512_VNNI FMA\n",
      "To enable them in other operations, rebuild TensorFlow with the appropriate compiler flags.\n",
      "2023-03-14 21:17:44.690196: I tensorflow/core/util/util.cc:169] oneDNN custom operations are on. You may see slightly different numerical results due to floating-point round-off errors from different computation orders. To turn them off, set the environment variable `TF_ENABLE_ONEDNN_OPTS=0`.\n",
      "2023-03-14 21:17:44.693283: W tensorflow/stream_executor/platform/default/dso_loader.cc:64] Could not load dynamic library 'libcudart.so.11.0'; dlerror: libcudart.so.11.0: cannot open shared object file: No such file or directory\n",
      "2023-03-14 21:17:44.693290: I tensorflow/stream_executor/cuda/cudart_stub.cc:29] Ignore above cudart dlerror if you do not have a GPU set up on your machine.\n",
      "2023-03-14 21:17:44.710164: E tensorflow/stream_executor/cuda/cuda_blas.cc:2981] Unable to register cuBLAS factory: Attempting to register factory for plugin cuBLAS when one has already been registered\n",
      "2023-03-14 21:17:45.108056: W tensorflow/stream_executor/platform/default/dso_loader.cc:64] Could not load dynamic library 'libnvinfer.so.7'; dlerror: libnvinfer.so.7: cannot open shared object file: No such file or directory\n",
      "2023-03-14 21:17:45.108095: W tensorflow/stream_executor/platform/default/dso_loader.cc:64] Could not load dynamic library 'libnvinfer_plugin.so.7'; dlerror: libnvinfer_plugin.so.7: cannot open shared object file: No such file or directory\n",
      "2023-03-14 21:17:45.108114: W tensorflow/compiler/tf2tensorrt/utils/py_utils.cc:38] TF-TRT Warning: Cannot dlopen some TensorRT libraries. If you would like to use Nvidia GPU with TensorRT, please make sure the missing libraries mentioned above are installed properly.\n"
     ]
    }
   ],
   "source": [
    "import numpy as np\n",
    "from PIL import Image\n",
    "import os\n",
    "\n",
    "import tensorflow as tf\n",
    "from tensorflow.keras import Model\n",
    "from tensorflow.keras.layers import Input, Reshape, Conv2D, Conv2DTranspose, Dense, Flatten, MaxPooling2D\n",
    "from tensorflow.keras.utils import image_dataset_from_directory"
   ]
  },
  {
   "cell_type": "code",
   "execution_count": 16,
   "metadata": {
    "tags": []
   },
   "outputs": [
    {
     "name": "stdout",
     "output_type": "stream",
     "text": [
      "Found 2360 files belonging to 1 classes.\n"
     ]
    },
    {
     "name": "stderr",
     "output_type": "stream",
     "text": [
      "2023-03-14 21:17:45.711332: W tensorflow/stream_executor/platform/default/dso_loader.cc:64] Could not load dynamic library 'libcuda.so.1'; dlerror: libcuda.so.1: cannot open shared object file: No such file or directory\n",
      "2023-03-14 21:17:45.711357: W tensorflow/stream_executor/cuda/cuda_driver.cc:263] failed call to cuInit: UNKNOWN ERROR (303)\n",
      "2023-03-14 21:17:45.711374: I tensorflow/stream_executor/cuda/cuda_diagnostics.cc:156] kernel driver does not appear to be running on this host (lscr): /proc/driver/nvidia/version does not exist\n",
      "2023-03-14 21:17:45.711622: I tensorflow/core/platform/cpu_feature_guard.cc:193] This TensorFlow binary is optimized with oneAPI Deep Neural Network Library (oneDNN) to use the following CPU instructions in performance-critical operations:  AVX2 AVX512F AVX512_VNNI FMA\n",
      "To enable them in other operations, rebuild TensorFlow with the appropriate compiler flags.\n"
     ]
    }
   ],
   "source": [
    "ds = image_dataset_from_directory('../raw_data/zelle', label_mode=None, image_size=(448, 448), batch_size=16)"
   ]
  },
  {
   "cell_type": "code",
   "execution_count": 17,
   "metadata": {},
   "outputs": [],
   "source": [
    "ds = ds.map(lambda x: x/255)"
   ]
  },
  {
   "cell_type": "code",
   "execution_count": 18,
   "metadata": {},
   "outputs": [
    {
     "data": {
      "text/plain": [
       "(16, 448, 448, 3)"
      ]
     },
     "execution_count": 18,
     "metadata": {},
     "output_type": "execute_result"
    }
   ],
   "source": [
    "imgs = ds.as_numpy_iterator().__next__()\n",
    "imgs.shape"
   ]
  },
  {
   "cell_type": "markdown",
   "metadata": {},
   "source": [
    "### Model Architecture\n",
    "\n",
    "Because we are using load weights, we need to instantiate the model every time. This sucks for notebooks, but it will be fine once everything is packaged."
   ]
  },
  {
   "cell_type": "code",
   "execution_count": 19,
   "metadata": {},
   "outputs": [],
   "source": [
    "class Sampling(tf.keras.layers.Layer):\n",
    "    \"\"\"Uses (z_mean, z_log_var) to sample z, the vector encoding a digit.\"\"\"\n",
    "    def call(self, inputs):\n",
    "        z_mean, z_log_var = inputs\n",
    "        batch = tf.shape(z_mean)[0]\n",
    "        dim = tf.shape(z_mean)[1]\n",
    "        epsilon = tf.random.normal(shape=(batch, dim))\n",
    "        return z_mean + tf.exp(0.5 * z_log_var) * epsilon"
   ]
  },
  {
   "cell_type": "code",
   "execution_count": 20,
   "metadata": {},
   "outputs": [],
   "source": [
    "latent_dim = 200\n",
    "\n",
    "## Encoder\n",
    "\n",
    "input_image = Input(shape=(448, 448, 3))\n",
    "    \n",
    "x = Conv2D(32, (3, 3), padding='same', activation=\"relu\")(input_image)\n",
    "x = MaxPooling2D((2, 2))(x)\n",
    "\n",
    "x = Conv2D(64, (3, 3), padding='same', activation=\"relu\")(x)\n",
    "x = MaxPooling2D((2, 2))(x)\n",
    "\n",
    "x = Conv2D(128, (3, 3), padding='same', activation=\"relu\")(x)\n",
    "x = MaxPooling2D((2, 2))(x)\n",
    "\n",
    "x = Conv2D(256, (3, 3), padding='same', activation=\"relu\")(x)\n",
    "x = MaxPooling2D((2, 2))(x)\n",
    "\n",
    "x = Flatten()(x)\n",
    "\n",
    "z_mean = Dense(latent_dim, name=\"z_mean\")(x)\n",
    "z_log_var = Dense(latent_dim, name=\"z_log_var\")(x)\n",
    "\n",
    "z = Sampling()([z_mean, z_log_var])\n",
    "\n",
    "# Encoder Build\n",
    "encoder = Model(input_image, [z_mean, z_log_var, z], name=\"encoder\")\n",
    "\n",
    "#############################################\n",
    "\n",
    "## Decoder\n",
    "\n",
    "latent_inputs = Input(shape=(latent_dim,))  \n",
    "y = Dense(7*7*64, activation='tanh')(latent_inputs)\n",
    "y = Reshape((7, 7, 64))(y)\n",
    "\n",
    "y = Conv2DTranspose(128, (3, 3), strides=2, padding='same', activation=\"relu\")(y)\n",
    "y = Conv2DTranspose(128, (3, 3), strides=1, padding='same', activation=\"relu\")(y)\n",
    "y = Conv2DTranspose(128, (3, 3), strides=1, padding='same', activation=\"relu\")(y)\n",
    "y = Conv2DTranspose(128, (3, 3), strides=1, padding='same', activation=\"relu\")(y)\n",
    "\n",
    "y = Conv2DTranspose(64, (3, 3), strides=2, padding='same', activation=\"relu\")(y)\n",
    "y = Conv2DTranspose(64, (3, 3), strides=1, padding='same', activation=\"relu\")(y)\n",
    "y = Conv2DTranspose(64, (3, 3), strides=1, padding='same', activation=\"relu\")(y)\n",
    "\n",
    "y = Conv2DTranspose(32, (3, 3), strides=2, padding='same', activation=\"relu\")(y)\n",
    "y = Conv2DTranspose(32, (3, 3), strides=1, padding='same', activation=\"relu\")(y)\n",
    "y = Conv2DTranspose(32, (3, 3), strides=1, padding='same', activation=\"relu\")(y)\n",
    "\n",
    "y = Conv2DTranspose(16, (3, 3), strides=2, padding='same', activation=\"relu\")(y)\n",
    "y = Conv2DTranspose(16, (3, 3), strides=1, padding='same', activation=\"relu\")(y)\n",
    "y = Conv2DTranspose(16, (3, 3), strides=1, padding='same', activation=\"relu\")(y)\n",
    "\n",
    "y = Conv2DTranspose(8, (3, 3), strides=2, padding='same', activation=\"relu\")(y)\n",
    "y = Conv2DTranspose(8, (3, 3), strides=1, padding='same', activation=\"relu\")(y)\n",
    "y = Conv2DTranspose(8, (3, 3), strides=1, padding='same', activation=\"relu\")(y)\n",
    "\n",
    "decoder_output = Conv2DTranspose(3, (3, 3), strides=2, padding='same', activation='sigmoid')(y)\n",
    "\n",
    "# Decoder Build\n",
    "decoder = Model(inputs=latent_inputs, outputs=decoder_output, name=\"decoder\")"
   ]
  },
  {
   "cell_type": "code",
   "execution_count": 21,
   "metadata": {},
   "outputs": [],
   "source": [
    "class VAE(tf.keras.Model):\n",
    "    def __init__(self, encoder, decoder, **kwargs):\n",
    "        super().__init__(**kwargs)\n",
    "        self.encoder = encoder\n",
    "        self.decoder = decoder\n",
    "        self.total_loss_tracker = tf.keras.metrics.Mean(name=\"total_loss\")\n",
    "        self.reconstruction_loss_tracker = tf.keras.metrics.Mean(\n",
    "            name=\"reconstruction_loss\"\n",
    "        )\n",
    "        self.kl_loss_tracker = tf.keras.metrics.Mean(name=\"kl_loss\")\n",
    "\n",
    "    @property\n",
    "    def metrics(self):\n",
    "        return [\n",
    "            self.total_loss_tracker,\n",
    "            self.reconstruction_loss_tracker,\n",
    "            self.kl_loss_tracker,\n",
    "        ]\n",
    "\n",
    "    def train_step(self, data):\n",
    "        with tf.GradientTape() as tape:\n",
    "            z_mean, z_log_var, z = self.encoder(data)\n",
    "            reconstruction = self.decoder(z)\n",
    "            reconstruction_loss = tf.reduce_mean(\n",
    "                tf.reduce_sum(\n",
    "                    tf.keras.losses.binary_crossentropy(data, reconstruction), axis=(1, 2)\n",
    "                )\n",
    "            )\n",
    "            kl_loss = -0.5 * (1 + z_log_var - tf.square(z_mean) - tf.exp(z_log_var))\n",
    "            kl_loss = tf.reduce_mean(tf.reduce_sum(kl_loss, axis=1))\n",
    "            total_loss = reconstruction_loss + kl_loss\n",
    "        grads = tape.gradient(total_loss, self.trainable_weights)\n",
    "        self.optimizer.apply_gradients(zip(grads, self.trainable_weights))\n",
    "        self.total_loss_tracker.update_state(total_loss)\n",
    "        self.reconstruction_loss_tracker.update_state(reconstruction_loss)\n",
    "        self.kl_loss_tracker.update_state(kl_loss)\n",
    "        return {\n",
    "            \"loss\": self.total_loss_tracker.result(),\n",
    "            \"reconstruction_loss\": self.reconstruction_loss_tracker.result(),\n",
    "            \"kl_loss\": self.kl_loss_tracker.result(),\n",
    "        }"
   ]
  },
  {
   "cell_type": "markdown",
   "metadata": {},
   "source": [
    "## Instantiate Model and Load weights"
   ]
  },
  {
   "cell_type": "code",
   "execution_count": 22,
   "metadata": {},
   "outputs": [
    {
     "data": {
      "text/plain": [
       "<tensorflow.python.checkpoint.checkpoint.CheckpointLoadStatus at 0x7fc1b0382830>"
      ]
     },
     "execution_count": 22,
     "metadata": {},
     "output_type": "execute_result"
    }
   ],
   "source": [
    "vae = VAE(encoder, decoder)\n",
    "\n",
    "vae.load_weights('../saved_models/model_vae_2500')"
   ]
  },
  {
   "cell_type": "markdown",
   "metadata": {},
   "source": [
    "### Predict"
   ]
  },
  {
   "cell_type": "code",
   "execution_count": 23,
   "metadata": {},
   "outputs": [
    {
     "data": {
      "text/plain": [
       "120"
      ]
     },
     "execution_count": 23,
     "metadata": {},
     "output_type": "execute_result"
    }
   ],
   "source": [
    "IMAGE_TIME_GAP = 5 # seconds, play with this\n",
    "IMAGE_FRAME_GAP = IMAGE_TIME_GAP * FRAME_RATE\n",
    "IMAGE_FRAME_GAP"
   ]
  },
  {
   "cell_type": "code",
   "execution_count": 24,
   "metadata": {},
   "outputs": [
    {
     "data": {
      "text/plain": [
       "3"
      ]
     },
     "execution_count": 24,
     "metadata": {},
     "output_type": "execute_result"
    }
   ],
   "source": [
    "N_IMAGES = math.ceil(audio_duration / IMAGE_TIME_GAP + 1)\n",
    "N_IMAGES"
   ]
  },
  {
   "cell_type": "code",
   "execution_count": 25,
   "metadata": {
    "tags": []
   },
   "outputs": [
    {
     "ename": "NameError",
     "evalue": "name 'numpy_array' is not defined",
     "output_type": "error",
     "traceback": [
      "\u001b[0;31m---------------------------------------------------------------------------\u001b[0m",
      "\u001b[0;31mNameError\u001b[0m                                 Traceback (most recent call last)",
      "Cell \u001b[0;32mIn [25], line 6\u001b[0m\n\u001b[1;32m      4\u001b[0m \u001b[38;5;28;01mfor\u001b[39;00m _ \u001b[38;5;129;01min\u001b[39;00m \u001b[38;5;28mrange\u001b[39m(N_IMAGES):\n\u001b[1;32m      5\u001b[0m     rand_number \u001b[38;5;241m=\u001b[39m image_list\u001b[38;5;241m.\u001b[39mpop(np\u001b[38;5;241m.\u001b[39mrandom\u001b[38;5;241m.\u001b[39mrandint(\u001b[38;5;241m0\u001b[39m, \u001b[38;5;28mlen\u001b[39m(image_list)))\n\u001b[0;32m----> 6\u001b[0m     image_vectors\u001b[38;5;241m.\u001b[39mappend(numpy_array[rand_number])\n",
      "\u001b[0;31mNameError\u001b[0m: name 'numpy_array' is not defined"
     ]
    }
   ],
   "source": [
    "image_list = list(range(2200))\n",
    "image_vectors = []\n",
    "\n",
    "for _ in range(N_IMAGES):\n",
    "    rand_number = image_list.pop(np.random.randint(0, len(image_list)))\n",
    "    image_vectors.append(numpy_array[rand_number])"
   ]
  },
  {
   "cell_type": "code",
   "execution_count": null,
   "metadata": {},
   "outputs": [],
   "source": [
    "# This would be where you would select three random latent vectors, but we don't have that yet\n",
    "# I am going to select three random images from the 16 loaded, don't be me. Randomly select from all of them \n",
    "\n",
    "random_start_point = np.random.randint(0, 14, size=(1))[0]\n",
    "random_start_point"
   ]
  },
  {
   "cell_type": "code",
   "execution_count": null,
   "metadata": {},
   "outputs": [],
   "source": [
    "encoded_images = vae.encoder.predict(imgs[random_start_point: random_start_point + N_IMAGES])[2]"
   ]
  },
  {
   "cell_type": "code",
   "execution_count": null,
   "metadata": {},
   "outputs": [],
   "source": [
    "encoded_images.shape"
   ]
  },
  {
   "cell_type": "code",
   "execution_count": null,
   "metadata": {},
   "outputs": [],
   "source": [
    "decoded_images_z = vae.decoder.predict(encoded_images)"
   ]
  },
  {
   "cell_type": "code",
   "execution_count": null,
   "metadata": {},
   "outputs": [],
   "source": [
    "encoded_images.shape"
   ]
  },
  {
   "cell_type": "markdown",
   "metadata": {},
   "source": [
    "# Create Interpolated Images"
   ]
  },
  {
   "cell_type": "code",
   "execution_count": null,
   "metadata": {},
   "outputs": [],
   "source": [
    "300 // IMAGE_FRAME_GAP"
   ]
  },
  {
   "cell_type": "code",
   "execution_count": null,
   "metadata": {},
   "outputs": [],
   "source": [
    "total_frames"
   ]
  },
  {
   "cell_type": "code",
   "execution_count": null,
   "metadata": {},
   "outputs": [],
   "source": [
    "# Find step vecs between each image\n",
    "\n",
    "def create_step_vecs(N_IMAGES, IMAGE_FRAME_GAP, encoded_images):\n",
    "    step_vecs = []\n",
    "    for i in range(N_IMAGES - 1):\n",
    "        step_vecs.append((encoded_images[i] - encoded_images[i + 1]) / IMAGE_FRAME_GAP)\n",
    "    return step_vecs"
   ]
  },
  {
   "cell_type": "code",
   "execution_count": null,
   "metadata": {},
   "outputs": [],
   "source": [
    "step_vecs = create_step_vecs(N_IMAGES, IMAGE_FRAME_GAP, encoded_images)"
   ]
  },
  {
   "cell_type": "code",
   "execution_count": null,
   "metadata": {},
   "outputs": [],
   "source": [
    "step_vecs[1].shape"
   ]
  },
  {
   "cell_type": "code",
   "execution_count": null,
   "metadata": {},
   "outputs": [],
   "source": [
    "def create_interpolation_vectors(encoded_images, onset_info, ):"
   ]
  },
  {
   "cell_type": "code",
   "execution_count": null,
   "metadata": {},
   "outputs": [],
   "source": []
  },
  {
   "cell_type": "code",
   "execution_count": null,
   "metadata": {},
   "outputs": [],
   "source": []
  },
  {
   "cell_type": "code",
   "execution_count": null,
   "metadata": {},
   "outputs": [],
   "source": [
    "##################### UNFINISHED\n",
    "def create_interpolation_vectors(encoded_images, step_vecs, onset_info):\n",
    "    interp_vectors = []\n",
    "    \n",
    "    for i in range(total_frames):\n",
    "        image_segment_number = i // IMAGE_FRAME_GAP\n",
    "\n",
    "    return np.array(interp_vectors)\n",
    "#################### UNFINISHED"
   ]
  },
  {
   "cell_type": "code",
   "execution_count": null,
   "metadata": {},
   "outputs": [],
   "source": []
  },
  {
   "cell_type": "code",
   "execution_count": null,
   "metadata": {},
   "outputs": [],
   "source": []
  },
  {
   "cell_type": "code",
   "execution_count": null,
   "metadata": {},
   "outputs": [],
   "source": []
  },
  {
   "cell_type": "code",
   "execution_count": null,
   "metadata": {},
   "outputs": [],
   "source": []
  },
  {
   "cell_type": "markdown",
   "metadata": {},
   "source": [
    "# Spleeter Testing\n",
    "\n",
    "I have no idea how this works, just use `Separator.separate_to_file`"
   ]
  },
  {
   "cell_type": "code",
   "execution_count": null,
   "metadata": {},
   "outputs": [],
   "source": [
    "from spleeter.separator import Separator"
   ]
  },
  {
   "cell_type": "code",
   "execution_count": null,
   "metadata": {},
   "outputs": [],
   "source": [
    "seperator = Separator(params_descriptor='spleeter:4stems')"
   ]
  },
  {
   "cell_type": "code",
   "execution_count": null,
   "metadata": {},
   "outputs": [],
   "source": [
    "total_frames, sample_rate, audio_duration = get_audio_params('choice.wav', frame_rate=FRAME_RATE, hop_window=HOP_WINDOW)\n",
    "total_frames, sample_rate, audio_duration"
   ]
  },
  {
   "cell_type": "code",
   "execution_count": null,
   "metadata": {},
   "outputs": [],
   "source": [
    "y, onset_info, beat_times = get_onset_info('choice.wav', sample_rate, frame_rate=FRAME_RATE, hop_window=HOP_WINDOW)"
   ]
  },
  {
   "cell_type": "code",
   "execution_count": null,
   "metadata": {},
   "outputs": [],
   "source": [
    "y, sr = librosa.load('choice.wav', sr=22050, mono=True)\n",
    "y.reshape((-1, 1)).shape"
   ]
  },
  {
   "cell_type": "code",
   "execution_count": null,
   "metadata": {},
   "outputs": [],
   "source": [
    "stems = seperator.separate(y.reshape((-1, 1)), audio_descriptor='test')"
   ]
  },
  {
   "cell_type": "code",
   "execution_count": null,
   "metadata": {},
   "outputs": [],
   "source": [
    "stems.keys()"
   ]
  },
  {
   "cell_type": "code",
   "execution_count": null,
   "metadata": {
    "tags": []
   },
   "outputs": [],
   "source": [
    "stems['drums'][:50]"
   ]
  },
  {
   "cell_type": "code",
   "execution_count": null,
   "metadata": {},
   "outputs": [],
   "source": [
    "import soundfile as sf\n",
    "from IPython.display import Audio"
   ]
  },
  {
   "cell_type": "code",
   "execution_count": null,
   "metadata": {
    "tags": []
   },
   "outputs": [],
   "source": [
    "test_data = stems['drums'][:,1].reshape(-1)\n",
    "# test_data"
   ]
  },
  {
   "cell_type": "code",
   "execution_count": null,
   "metadata": {},
   "outputs": [],
   "source": [
    "Audio(data=test_data, rate=sr)"
   ]
  },
  {
   "cell_type": "code",
   "execution_count": null,
   "metadata": {},
   "outputs": [],
   "source": [
    "Audio(data=y, rate=sample_rate)"
   ]
  },
  {
   "cell_type": "code",
   "execution_count": null,
   "metadata": {},
   "outputs": [],
   "source": [
    "drums, sr = librosa.load('../raw_data/split_audio/choice/drums.wav', sr=sample_rate)"
   ]
  },
  {
   "cell_type": "code",
   "execution_count": null,
   "metadata": {},
   "outputs": [],
   "source": [
    "Audio(data=drums, rate=sample_rate)"
   ]
  },
  {
   "cell_type": "code",
   "execution_count": null,
   "metadata": {},
   "outputs": [],
   "source": []
  }
 ],
 "metadata": {
  "kernelspec": {
   "display_name": "Python 3 (ipykernel)",
   "language": "python",
   "name": "python3"
  },
  "language_info": {
   "codemirror_mode": {
    "name": "ipython",
    "version": 3
   },
   "file_extension": ".py",
   "mimetype": "text/x-python",
   "name": "python",
   "nbconvert_exporter": "python",
   "pygments_lexer": "ipython3",
   "version": "3.10.6"
  },
  "toc": {
   "base_numbering": 1,
   "nav_menu": {},
   "number_sections": true,
   "sideBar": true,
   "skip_h1_title": false,
   "title_cell": "Table of Contents",
   "title_sidebar": "Contents",
   "toc_cell": false,
   "toc_position": {},
   "toc_section_display": true,
   "toc_window_display": false
  }
 },
 "nbformat": 4,
 "nbformat_minor": 4
}
